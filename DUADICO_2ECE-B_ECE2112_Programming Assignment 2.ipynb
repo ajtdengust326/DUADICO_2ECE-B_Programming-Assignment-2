{
 "cells": [
  {
   "cell_type": "markdown",
   "id": "b046f616-cd2a-4ecf-afb2-66d6cfc69f14",
   "metadata": {},
   "source": [
    "### **NORMALIZATION PROBLEM** \n",
    "---"
   ]
  },
  {
   "cell_type": "code",
   "execution_count": 24,
   "id": "36ed0456-fe98-46ae-974a-e3f4be320c9b",
   "metadata": {},
   "outputs": [
    {
     "name": "stdout",
     "output_type": "stream",
     "text": [
      "[[0.67817891 0.31366154 0.57525651 0.32282168 0.61647751]\n",
      " [0.11830064 0.79067885 0.12921478 0.8038815  0.12959708]\n",
      " [0.82880854 0.72024453 0.69075244 0.54014456 0.05485816]\n",
      " [0.67512722 0.83486212 0.51502975 0.56962667 0.81783996]\n",
      " [0.20374884 0.10838722 0.60813684 0.28702085 0.87157116]]\n"
     ]
    }
   ],
   "source": [
    "import numpy as np              #For Numpy we must called the Numpy library\n",
    "X = np.random.random((5, 5))    #Create a random 5x5 ndarray\n",
    "print (X)                       #This will serve as the original X"
   ]
  },
  {
   "cell_type": "code",
   "execution_count": 25,
   "id": "e27c4189-8542-4164-8c2e-79cbb6801280",
   "metadata": {},
   "outputs": [
    {
     "name": "stdout",
     "output_type": "stream",
     "text": [
      "Original X:\n",
      " [[0.67817891 0.31366154 0.57525651 0.32282168 0.61647751]\n",
      " [0.11830064 0.79067885 0.12921478 0.8038815  0.12959708]\n",
      " [0.82880854 0.72024453 0.69075244 0.54014456 0.05485816]\n",
      " [0.67512722 0.83486212 0.51502975 0.56962667 0.81783996]\n",
      " [0.20374884 0.10838722 0.60813684 0.28702085 0.87157116]]\n",
      "\n",
      "Normalized X:\n",
      " [[ 0.62066485 -0.74216509  0.23586639 -0.70791786  0.38998034]\n",
      " [-1.47256563  1.04127111 -1.4317607   1.09063219 -1.43033138]\n",
      " [ 1.18382751  0.77793662  0.66767383  0.10459247 -1.7097596 ]\n",
      " [ 0.60925544  1.2064602   0.01069512  0.21481795  1.14281901]\n",
      " [-1.15309837 -1.50962917  0.35879689 -0.84176728  1.34370516]]\n"
     ]
    }
   ],
   "source": [
    "mean = X.mean()                              #This is to compute the mean and standard deviation of X using the .mean() and .std() calls\n",
    "std = X.std()\n",
    "X_normalized = (X - mean) / std              #To noramlize X we serve it as the given formula\n",
    "\n",
    "np.save(\"X_normalized.npy\", X_normalized)    #Save the noramlize X as \"X_normalize.npy\"\n",
    "\n",
    "print(\"Original X:\\n\", X)\n",
    "print(\"\\nNormalized X:\\n\", X_normalized)"
   ]
  },
  {
   "cell_type": "markdown",
   "id": "ebbc6baf-1c31-42a8-b46e-1be59ed0e67e",
   "metadata": {},
   "source": [
    "### **DIVISIBLE BY 3 PROBLEM**\n",
    "---"
   ]
  },
  {
   "cell_type": "code",
   "execution_count": 29,
   "id": "567c5619-68db-488f-a8c4-6d6b589b1ccf",
   "metadata": {},
   "outputs": [
    {
     "name": "stdout",
     "output_type": "stream",
     "text": [
      "[[    1     4     9    16    25    36    49    64    81   100]\n",
      " [  121   144   169   196   225   256   289   324   361   400]\n",
      " [  441   484   529   576   625   676   729   784   841   900]\n",
      " [  961  1024  1089  1156  1225  1296  1369  1444  1521  1600]\n",
      " [ 1681  1764  1849  1936  2025  2116  2209  2304  2401  2500]\n",
      " [ 2601  2704  2809  2916  3025  3136  3249  3364  3481  3600]\n",
      " [ 3721  3844  3969  4096  4225  4356  4489  4624  4761  4900]\n",
      " [ 5041  5184  5329  5476  5625  5776  5929  6084  6241  6400]\n",
      " [ 6561  6724  6889  7056  7225  7396  7569  7744  7921  8100]\n",
      " [ 8281  8464  8649  8836  9025  9216  9409  9604  9801 10000]]\n"
     ]
    }
   ],
   "source": [
    "import numpy as np           #Called the Numpy Library\n",
    "A = np.arange(1, 101)**2     #Created array of squares of first 100 positive integers\n",
    "\n",
    "A = A.reshape(10, 10)        #Reshaped into 10x10 ndarray\n",
    "print(A)"
   ]
  },
  {
   "cell_type": "code",
   "execution_count": 30,
   "id": "7b1fb4ed-91ed-46c6-b69e-74e5d493f54e",
   "metadata": {},
   "outputs": [
    {
     "name": "stdout",
     "output_type": "stream",
     "text": [
      "Elements divisible by 3:\n",
      " [   9   36   81  144  225  324  441  576  729  900 1089 1296 1521 1764\n",
      " 2025 2304 2601 2916 3249 3600 3969 4356 4761 5184 5625 6084 6561 7056\n",
      " 7569 8100 8649 9216 9801]\n"
     ]
    }
   ],
   "source": [
    "div_by_3 = A[A % 3 == 0]                          #Determine all the numbers divisible by 3\n",
    "\n",
    "np.save(\"div_by_3.npy\", div_by_3)                 #Save the result as \"div_by_3.npy\"\n",
    "\n",
    "print(\"Elements divisible by 3:\\n\", div_by_3)"
   ]
  }
 ],
 "metadata": {
  "kernelspec": {
   "display_name": "Python [conda env:base] *",
   "language": "python",
   "name": "conda-base-py"
  },
  "language_info": {
   "codemirror_mode": {
    "name": "ipython",
    "version": 3
   },
   "file_extension": ".py",
   "mimetype": "text/x-python",
   "name": "python",
   "nbconvert_exporter": "python",
   "pygments_lexer": "ipython3",
   "version": "3.13.5"
  }
 },
 "nbformat": 4,
 "nbformat_minor": 5
}
